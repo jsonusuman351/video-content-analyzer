{
 "cells": [
  {
   "cell_type": "code",
   "execution_count": null,
   "id": "945c433f-3759-49c5-90a3-13d60a0826c4",
   "metadata": {},
   "outputs": [],
   "source": [
    "import os\n",
    "os.environ[\"OPENAI_API_KEY\"] =\"paste your api key\""
   ]
  },
  {
   "cell_type": "code",
   "execution_count": 5,
   "id": "05f774f3-0458-4528-8020-30956489b7ed",
   "metadata": {},
   "outputs": [],
   "source": [
    "!pip install -q youtube-transcript-api langchain-community langchain-openai \\\n",
    "               faiss-cpu tiktoken python-dotenv"
   ]
  },
  {
   "cell_type": "code",
   "execution_count": 6,
   "id": "19e222c6-1c24-42cb-a817-4db8e9161cfb",
   "metadata": {},
   "outputs": [],
   "source": [
    "from youtube_transcript_api import YouTubeTranscriptApi, TranscriptsDisabled\n",
    "from langchain.text_splitter import RecursiveCharacterTextSplitter\n",
    "from langchain_openai import OpenAIEmbeddings, ChatOpenAI\n",
    "from langchain_community.vectorstores import FAISS\n",
    "from langchain_core.prompts import PromptTemplate"
   ]
  },
  {
   "cell_type": "markdown",
   "id": "3c916ab1-ed82-4e3c-8529-0c00816198c3",
   "metadata": {},
   "source": [
    "# Step 1a - Indexing (Document Ingestion)"
   ]
  },
  {
   "cell_type": "code",
   "execution_count": 7,
   "id": "92cafda5-dcad-4642-a9a5-fc1351795a55",
   "metadata": {},
   "outputs": [
    {
     "name": "stdout",
     "output_type": "stream",
     "text": [
      "[Music] hello everyone welcome to the introductory lecture in this series which is titled build a large language model from scratch my name is Dr Raj dander I graduated from IIT Madras with a bch in mechanical engineering in 2017 after that I did my PhD from the Massachusetts Institute of Technology MIT I graduated from MIT with a PhD in machine learning in 2022 since then I've come back to India and we are all on a mission to basically make AI accessible to everyone U at viua which is our YouTube channel we have made several playlists now on machine learning on deep learning and uh the main approach or the philosophy which we really follow when we teach is to teach everything from from the basics not to assume anything teach you the nuts and bolts of every single concept the real reason behind this series is that as we all know large language models and generative AI are transforming everything around us startups are forming in this space companies are switching to large language models for various tasks the jobs in this field are rising a lot but many people when they are learning learning about this field are making one common mistake they directly switch to the applications they directly run some Google collab notebook they follow some YouTube video and directly run a code uh but very few people really understand how large language models actually work very few people actually know the nuts and the bolds which make large language models really so powerful wouldn't be it amazing if you can build a large language model completely from scratch wouldn't that make you feel very confident about this subject very few people have this knowledge right now and I'm making this YouTube playlist which will be a very comprehensive playlist showing you everything about building an llm from scratch the way I'm making this playlist or the way I will make videos in this playlist is to teach te you everything from the basics as a beginner without assuming anything and at the end of this playlist you will have built an llm from scratch successfully all by yourself you'll see that after this point everything which comes later all the application Parts everything will just start seeming extremely easy to you so that's the whole philosophy behind making this lecture series it takes a huge amount of effort on our part to make this series because as you you will see and I'll show you in some time to make every lecture we are going to make detailed lecture notes I'll share those lecture notes with you and all the videos in this series will be available completely for free okay so now I'm going to tell you a bit about my story of learning llms then I'm going to tell you a bit about what exists right now the material which is already available on the internet for learning llms why it is so inadequate why it is so insufficient and what we are trying to do new with this playlist so let's get into the video so let me take you back in time a bit to show you how large language models looked like in maybe 1960s uh or where the field of natural language processing was really about 50 to 60 years back so this is one of the first chat Bots which humans developed it's called as Elisa it was supposed to be a therapist and let's see how it works so first this interface asks me to choose my language so I'm choosing English let's go so then Elisa tells me how do you do please tell me your problem so then let me type I am trying to learn about large language models but I am finding it difficult could you provide some resources for me to start with then Elisa asks is it because you're trying to learn about large language models that you came to me then I say yes and then Alisa says You seem to be quite positive and then and then Elisa says you are sure you see this conversation is proceeding nowhere this was the state of large language models 50 to 60 years 50 to 60 years back it's not very good right fast forward to chat GPT and you ask what are large language models or let me ask the same thing which I asked over here I am trying to learn about large language models tell me me some resources and then you'll see the response by chat GPT it's extremely useful it's to the point and uh it gives me books it gives me online courses it gives me research papers this is exactly what I need so you see this simple illustration shows that we are living in an age where we should be very lucky that the research on natural language processing and large language models is at such a stage where llm such as GPT are very powerful they are very sophisticated if you're not familiar with chat GPT that's fine we are going to be building our own GPD in this playlist so you'll learn about it along the way but I showed you this demonstration for you to appreciate the times we are living in right now llms have become really powerful and uh that's the first motivation to really learn about them there are several more things which are happening as I'm making this video Facebook released their Lama 3.1 which is one of their most capable large language models up till date and this is an open-source model which means that the entire architecture of the model is available for free uh or rather it's available to the public anyone can see the architecture the models released by open AI are usually closed source which means they don't release the weights uh the architecture not too many things are known about the model itself so here is a graph which shows closed Source versus open source models in 2022 when the field of large language models was booming most of the things were pretty closed Source when gp4 was released in 2023 it blew the world uh away everyone was surprised everyone was happy to see the functionality but still it was a closed Source model now in 2024 can you see the gap between the open source and closed Source model is slowly decreasing and when Lama 3.1 is released you can see that it performs at the same level as gp4 which is closed Source this is to say that all the information which you need is available right now as open source models you should just be willing to learn if you are not sure what's open source close Source models what's this Lama 340 5B I'll explain to you about all of these things as we proceed with the lectures Now text is one thing right there are many other things which generative AI as a field is capable of there is also a lot of confusion with many people regarding what is generative AI what are llms really but generative AI is a broader subset and it includes language it includes video audio 3D models all the things so have a look at some of these videos don't these videos look incredibly realistic this video then this video The Waves video this particular video you'll be surprised to know that all of these videos are made by artificial intelligence these videos are not shot on camera they are made by AI this is the power of generative AI currently finally uh when we work with schools we have developed our own a application so this is viu's AI application uh or application on llms here you can see that there are a huge number of functionalities for example you can click on McQ generator and you can just type in the topic let's say gravity and you can click on generate now you'll see that within a matter of seconds the large language model which is powering this application will generate a set of multiple choice questions see right here we are providing this application to teachers all of this was impossible to even imagine uh just four to 5 years back but now large language models and generative AI are changing every single thing around us in fact what is probably more relevant to all of you watching this video is the global generative AI job market and just look at this growth it's incredible uh and this is the pro projected job market it's expected to grow about five to six times in the next 5 years generate and large language models is an extremely useful skill and the need for this skill is only going to increase in the future so this again brings me to the question that if someone wants to learn about large language models how do they go about doing this so let's say you go to Google and you search build llms learn which say which means you want to learn about large language models there are a number of courses which show up really over here now if you go to many of these courses you will see let let say build llm apps it's about app development it does not teach you how to build a large language model from scratch here is another course Master SL Master large language model Concepts if you look at this course description right they don't teach you how to build an llm from scratch at all they don't teach you the nuts and bolts it's a pretty quick course this is also not what I'm looking for what I'm looking for is one course which teaches me the foundations in a lot of detail and in a lot of depth I want to know about the foundations because I want to build an llm from scratch so that uh my skill set is improved and so that I feel confident about giving generative Ai and even llm job interviews this is what I'm looking for really I don't want a quick crash course I want something in depth then I go to YouTube and search about llm from scratch this is the first video which shows up or rather it's a first playlist you'll see that there are 18 chapters in this playlist but each of these chapters is again only 10 15 minutes and again I'm a bit demotivated seeing this because I'm not looking for this either I'm looking for a massive deep technical course which teaches me how to build an llm right from the very Basics there is Andre karpat is building a GPT course but if you look at this course it's actually quite complex it's not an easy course at all he starts right in the middle of uh a concept and it's not meant for beginners and it's just 90 minutes again this is not what I'm looking for here is another create a large language model from scratch but you see the red bar here I tried taking this course and I finished three hours of this but again this is not explained well it's not explained from scratch I want to make a course which people understand right from the very Basics and none of the courses on YouTube on Google are satisfying that need luckily very luckily I came across this book by an author called Sebastian rashka I think it's one of the best books on large language models I purchased this book and this is going to serve as the reference material for our course what I'm going to do is that this is a 48 page book I'm going to convert every single aspect of this book into a set of videos I'll probably have 35 40 or maybe 50 videos in this playlist similar to my playlist for machine learning and deep learning and uh whatever is given here right I'll convert it into uh I'll convert it into video format so for example here are some of the notes which I've already started to make we'll we'll start covering this when we move to uh the next lecture look at these notes what I've done over here is that I have built my understanding from this book over here and to to transfer my understanding to all of you I have started writing on a white board every single thing in detail look at this and I'm trying to make it as interesting as possible and as fundamental as possible so this is going to be the next lecture uh intro to llms so I finished making the notes for this and I finished making the notes for the lecture after that as well stages of building and llm so basically I'm making I'm in the process of making all these notes but I'm making the videos simultaneously so that I am also motivated and I am also on track eventually this will be a massive lecture notes of maybe 200 to 300 pages and uh there will be 50 to 60 videos based on this you'll learn everything right from the very Basics nothing will be assumed everything will be spelled out and these set of videos will be perfect for serious people who want to transition to large language models really and we want to understand llms the right way uh okay so this is the main idea for the course another thing which I want to say is that you might have heard of applications like Lang chain this is a tool which helps you build llm apps but again it's not useful if you don't know how to build an llm yourself many students directly start deploying apps as I mentioned before but I personally don't think that's the right way to learn about llms you need to know how to build a entire large language model from scratch and we'll teach you that in this playlist finally the goal is to equip all of you so that you feel confident in front of an interviewer right if you have just deployed applications by cloning some GitHub repository then if someone asks you a detailed question about key query and values let's say or positional embedding or positional positional encoding you need to be in a position to say that I have built this from scratch so I know the details better than anyone else that's really going to position you in a different boot than all the other people so this is the main objective of this course this is going to be the outline of this course we are going to follow uh all the top table of contents which have been mentioned over here and I'm going to convert those into video lecture formats and it's going to be an awesome series it's going to be a detailed Series so if this seems of interest to you please uh mention in the comments so that I also feel motivated to build subsequent videos and as I mentioned the plan is to release everything all of this content completely for free so that you all can benefit from it okay thank you so much everyone uh and I look forward to seeing you in the next lecture where we will cover introduction to large language models and we'll cover all these things what you are seeing in the board right now thanks everyone see you in the next lecture\n"
     ]
    }
   ],
   "source": [
    "video_id = 'Xpr8D6LeAtw'\n",
    "\n",
    "try:\n",
    "    ytt_api = YouTubeTranscriptApi()\n",
    "    transcript_list = ytt_api.fetch(video_id)\n",
    "    # transcript_list is iterable; each snippet has a 'text' attribute\n",
    "    transcript = \" \".join([snippet.text for snippet in transcript_list])\n",
    "    print(transcript)\n",
    "except Exception as e:\n",
    "    print(f\"An error occurred: {e}\")"
   ]
  },
  {
   "cell_type": "code",
   "execution_count": 8,
   "id": "476d9546-2f39-4df8-afb9-9e8f45a26724",
   "metadata": {},
   "outputs": [
    {
     "data": {
      "text/plain": [
       "FetchedTranscript(snippets=[FetchedTranscriptSnippet(text='[Music]', start=0.0, duration=7.839), FetchedTranscriptSnippet(text='hello everyone welcome to the', start=5.359, duration=4.921), FetchedTranscriptSnippet(text='introductory lecture in this series', start=7.839, duration=4.8), FetchedTranscriptSnippet(text='which is titled build a large language', start=10.28, duration=5.88), FetchedTranscriptSnippet(text='model from scratch my name is Dr Raj', start=12.639, duration=6.961), FetchedTranscriptSnippet(text='dander I graduated from IIT Madras with', start=16.16, duration=6.439), FetchedTranscriptSnippet(text='a bch in mechanical engineering in', start=19.6, duration=7.36), FetchedTranscriptSnippet(text='2017 after that I did my PhD from the', start=22.599, duration=6.641), FetchedTranscriptSnippet(text='Massachusetts Institute of Technology', start=26.96, duration=6.08), FetchedTranscriptSnippet(text='MIT I graduated from MIT with a PhD in', start=29.24, duration=5.8), FetchedTranscriptSnippet(text='machine learning in', start=33.04, duration=5.6), FetchedTranscriptSnippet(text=\"2022 since then I've come back to India\", start=35.04, duration=6.999), FetchedTranscriptSnippet(text='and we are all on a mission to basically', start=38.64, duration=7.84), FetchedTranscriptSnippet(text='make AI accessible to everyone U at viua', start=42.039, duration=6.2), FetchedTranscriptSnippet(text='which is our YouTube channel we have', start=46.48, duration=4.64), FetchedTranscriptSnippet(text='made several playlists now on machine', start=48.239, duration=6.12), FetchedTranscriptSnippet(text='learning on deep learning and uh the', start=51.12, duration=6.04), FetchedTranscriptSnippet(text='main approach or the philosophy which we', start=54.359, duration=5.0), FetchedTranscriptSnippet(text='really follow when we teach is to teach', start=57.16, duration=4.6), FetchedTranscriptSnippet(text='everything from from the basics not to', start=59.359, duration=4.721), FetchedTranscriptSnippet(text='assume anything teach you the nuts and', start=61.76, duration=6.52), FetchedTranscriptSnippet(text='bolts of every single', start=64.08, duration=7.12), FetchedTranscriptSnippet(text='concept the real reason behind this', start=68.28, duration=5.32), FetchedTranscriptSnippet(text='series is that as we all know large', start=71.2, duration=5.16), FetchedTranscriptSnippet(text='language models and generative AI are', start=73.6, duration=5.64), FetchedTranscriptSnippet(text='transforming everything around us', start=76.36, duration=5.119), FetchedTranscriptSnippet(text='startups are forming in this space', start=79.24, duration=3.76), FetchedTranscriptSnippet(text='companies are switching to large', start=81.479, duration=4.121), FetchedTranscriptSnippet(text='language models for various tasks the', start=83.0, duration=5.32), FetchedTranscriptSnippet(text='jobs in this field are rising a lot but', start=85.6, duration=4.28), FetchedTranscriptSnippet(text='many people when they are learning', start=88.32, duration=3.52), FetchedTranscriptSnippet(text='learning about this field are making one', start=89.88, duration=4.64), FetchedTranscriptSnippet(text='common mistake they directly switch to', start=91.84, duration=4.919), FetchedTranscriptSnippet(text='the applications they directly run some', start=94.52, duration=4.48), FetchedTranscriptSnippet(text='Google collab notebook they follow some', start=96.759, duration=4.601), FetchedTranscriptSnippet(text='YouTube video and directly run a', start=99.0, duration=6.399), FetchedTranscriptSnippet(text='code uh but very few people really', start=101.36, duration=6.759), FetchedTranscriptSnippet(text='understand how large language models', start=105.399, duration=4.04), FetchedTranscriptSnippet(text='actually', start=108.119, duration=4.36), FetchedTranscriptSnippet(text='work very few people actually know the', start=109.439, duration=6.28), FetchedTranscriptSnippet(text='nuts and the bolds which make large', start=112.479, duration=6.521), FetchedTranscriptSnippet(text='language models really so powerful', start=115.719, duration=6.641), FetchedTranscriptSnippet(text=\"wouldn't be it amazing if you can build\", start=119.0, duration=8.8), FetchedTranscriptSnippet(text='a large language model completely from', start=122.36, duration=8.039), FetchedTranscriptSnippet(text=\"scratch wouldn't that make you feel very\", start=127.8, duration=5.6), FetchedTranscriptSnippet(text='confident about this subject very few', start=130.399, duration=5.361), FetchedTranscriptSnippet(text='people have this knowledge right now and', start=133.4, duration=4.4), FetchedTranscriptSnippet(text=\"I'm making this YouTube playlist which\", start=135.76, duration=4.04), FetchedTranscriptSnippet(text='will be a very comprehensive playlist', start=137.8, duration=4.64), FetchedTranscriptSnippet(text='showing you everything about building an', start=139.8, duration=4.24), FetchedTranscriptSnippet(text='llm from', start=142.44, duration=4.28), FetchedTranscriptSnippet(text=\"scratch the way I'm making this playlist\", start=144.04, duration=4.76), FetchedTranscriptSnippet(text='or the way I will make videos in this', start=146.72, duration=4.0), FetchedTranscriptSnippet(text='playlist is to teach te you everything', start=148.8, duration=4.32), FetchedTranscriptSnippet(text='from the basics as a beginner without', start=150.72, duration=4.72), FetchedTranscriptSnippet(text='assuming anything and at the end of this', start=153.12, duration=4.839), FetchedTranscriptSnippet(text='playlist you will have built an llm from', start=155.44, duration=5.76), FetchedTranscriptSnippet(text='scratch successfully all by yourself', start=157.959, duration=5.081), FetchedTranscriptSnippet(text=\"you'll see that after this point\", start=161.2, duration=3.52), FetchedTranscriptSnippet(text='everything which comes later all the', start=163.04, duration=3.68), FetchedTranscriptSnippet(text='application Parts everything will just', start=164.72, duration=4.76), FetchedTranscriptSnippet(text='start seeming extremely easy to', start=166.72, duration=5.799), FetchedTranscriptSnippet(text=\"you so that's the whole philosophy\", start=169.48, duration=5.88), FetchedTranscriptSnippet(text='behind making this lecture series it', start=172.519, duration=4.961), FetchedTranscriptSnippet(text='takes a huge amount of effort on our', start=175.36, duration=4.48), FetchedTranscriptSnippet(text='part to make this series because as you', start=177.48, duration=4.36), FetchedTranscriptSnippet(text=\"you will see and I'll show you in some\", start=179.84, duration=4.039), FetchedTranscriptSnippet(text='time to make every lecture we are going', start=181.84, duration=4.319), FetchedTranscriptSnippet(text=\"to make detailed lecture notes I'll\", start=183.879, duration=4.481), FetchedTranscriptSnippet(text='share those lecture notes with you and', start=186.159, duration=3.881), FetchedTranscriptSnippet(text='all the videos in this series will be', start=188.36, duration=4.28), FetchedTranscriptSnippet(text='available completely for', start=190.04, duration=6.0), FetchedTranscriptSnippet(text=\"free okay so now I'm going to tell you a\", start=192.64, duration=7.0), FetchedTranscriptSnippet(text='bit about my story of learning llms then', start=196.04, duration=5.44), FetchedTranscriptSnippet(text=\"I'm going to tell you a bit about what\", start=199.64, duration=4.0), FetchedTranscriptSnippet(text='exists right now the material which is', start=201.48, duration=4.759), FetchedTranscriptSnippet(text='already available on the internet for', start=203.64, duration=5.599), FetchedTranscriptSnippet(text='learning llms why it is so inadequate', start=206.239, duration=5.481), FetchedTranscriptSnippet(text='why it is so insufficient and what we', start=209.239, duration=5.121), FetchedTranscriptSnippet(text='are trying to do new with this playlist', start=211.72, duration=5.0), FetchedTranscriptSnippet(text=\"so let's get into the video so let me\", start=214.36, duration=5.599), FetchedTranscriptSnippet(text='take you back in time a bit to show you', start=216.72, duration=6.36), FetchedTranscriptSnippet(text='how large language models looked like in', start=219.959, duration=4.521), FetchedTranscriptSnippet(text='maybe', start=223.08, duration=4.2), FetchedTranscriptSnippet(text='1960s uh or where the field of natural', start=224.48, duration=5.72), FetchedTranscriptSnippet(text='language processing was really about 50', start=227.28, duration=5.44), FetchedTranscriptSnippet(text='to 60 years back so this is one of the', start=230.2, duration=5.2), FetchedTranscriptSnippet(text='first chat Bots which humans developed', start=232.72, duration=5.04), FetchedTranscriptSnippet(text=\"it's called as Elisa it was supposed to\", start=235.4, duration=5.039), FetchedTranscriptSnippet(text=\"be a therapist and let's see how it\", start=237.76, duration=5.479), FetchedTranscriptSnippet(text='works so first this interface asks me to', start=240.439, duration=4.601), FetchedTranscriptSnippet(text=\"choose my language so I'm choosing\", start=243.239, duration=5.121), FetchedTranscriptSnippet(text=\"English let's\", start=245.04, duration=3.32), FetchedTranscriptSnippet(text='go so then Elisa tells me how do you do', start=249.079, duration=5.88), FetchedTranscriptSnippet(text='please tell me your problem so then let', start=252.36, duration=8.719), FetchedTranscriptSnippet(text='me type I am trying to learn about large', start=254.959, duration=8.281), FetchedTranscriptSnippet(text='language', start=261.079, duration=7.4), FetchedTranscriptSnippet(text='models but I am finding it', start=263.24, duration=7.48), FetchedTranscriptSnippet(text='difficult could you', start=268.479, duration=5.241), FetchedTranscriptSnippet(text='provide some', start=270.72, duration=7.36), FetchedTranscriptSnippet(text='resources for me to start', start=273.72, duration=4.36), FetchedTranscriptSnippet(text='with then Elisa asks is it because', start=282.36, duration=4.88), FetchedTranscriptSnippet(text=\"you're trying to learn about large\", start=285.4, duration=4.2), FetchedTranscriptSnippet(text='language models that you came to me then', start=287.24, duration=4.239), FetchedTranscriptSnippet(text='I say', start=289.6, duration=5.24), FetchedTranscriptSnippet(text='yes and then Alisa says You seem to be', start=291.479, duration=6.961), FetchedTranscriptSnippet(text='quite positive and then and then Elisa', start=294.84, duration=5.799), FetchedTranscriptSnippet(text='says you are sure you see this', start=298.44, duration=4.759), FetchedTranscriptSnippet(text='conversation is proceeding nowhere this', start=300.639, duration=4.481), FetchedTranscriptSnippet(text='was the state of large language models', start=303.199, duration=5.801), FetchedTranscriptSnippet(text=\"50 to 60 years 50 to 60 years back it's\", start=305.12, duration=6.44), FetchedTranscriptSnippet(text='not very good right fast forward to chat', start=309.0, duration=5.24), FetchedTranscriptSnippet(text='GPT and you', start=311.56, duration=5.8), FetchedTranscriptSnippet(text='ask what are large language', start=314.24, duration=5.6), FetchedTranscriptSnippet(text='models or let me ask the same thing', start=317.36, duration=4.2), FetchedTranscriptSnippet(text='which I asked over', start=319.84, duration=7.04), FetchedTranscriptSnippet(text='here I am trying to learn about large', start=321.56, duration=6.72), FetchedTranscriptSnippet(text='language', start=326.88, duration=5.08), FetchedTranscriptSnippet(text='models tell me me some', start=328.28, duration=5.88), FetchedTranscriptSnippet(text=\"resources and then you'll see the\", start=331.96, duration=4.92), FetchedTranscriptSnippet(text=\"response by chat GPT it's extremely\", start=334.16, duration=6.68), FetchedTranscriptSnippet(text=\"useful it's to the point and uh it gives\", start=336.88, duration=7.08), FetchedTranscriptSnippet(text='me books it gives me online courses it', start=340.84, duration=5.28), FetchedTranscriptSnippet(text='gives me research papers this is exactly', start=343.96, duration=5.16), FetchedTranscriptSnippet(text='what I need so you see this simple', start=346.12, duration=5.48), FetchedTranscriptSnippet(text='illustration shows that we are living in', start=349.12, duration=5.72), FetchedTranscriptSnippet(text='an age where we should be very lucky', start=351.6, duration=5.039), FetchedTranscriptSnippet(text='that the research on natural language', start=354.84, duration=4.32), FetchedTranscriptSnippet(text='processing and large language models is', start=356.639, duration=4.321), FetchedTranscriptSnippet(text='at such a', start=359.16, duration=4.24), FetchedTranscriptSnippet(text='stage', start=360.96, duration=6.72), FetchedTranscriptSnippet(text='where llm such as GPT are very powerful', start=363.4, duration=6.639), FetchedTranscriptSnippet(text='they are very', start=367.68, duration=4.4), FetchedTranscriptSnippet(text=\"sophisticated if you're not familiar\", start=370.039, duration=3.921), FetchedTranscriptSnippet(text=\"with chat GPT that's fine we are going\", start=372.08, duration=4.88), FetchedTranscriptSnippet(text='to be building our own GPD in this', start=373.96, duration=5.84), FetchedTranscriptSnippet(text=\"playlist so you'll learn about it along\", start=376.96, duration=5.239), FetchedTranscriptSnippet(text='the way but I showed you this', start=379.8, duration=4.6), FetchedTranscriptSnippet(text='demonstration for you to appreciate the', start=382.199, duration=4.921), FetchedTranscriptSnippet(text='times we are living in right now llms', start=384.4, duration=5.639), FetchedTranscriptSnippet(text='have become really powerful and uh', start=387.12, duration=4.639), FetchedTranscriptSnippet(text=\"that's the first motivation to really\", start=390.039, duration=4.521), FetchedTranscriptSnippet(text='learn about them there are several more', start=391.759, duration=4.56), FetchedTranscriptSnippet(text=\"things which are happening as I'm making\", start=394.56, duration=5.479), FetchedTranscriptSnippet(text='this video Facebook released their Lama', start=396.319, duration=6.361), FetchedTranscriptSnippet(text='3.1 which is one of their most capable', start=400.039, duration=5.521), FetchedTranscriptSnippet(text='large language models up till date and', start=402.68, duration=5.079), FetchedTranscriptSnippet(text='this is an open-source model which means', start=405.56, duration=3.759), FetchedTranscriptSnippet(text='that the entire architecture of the', start=407.759, duration=4.961), FetchedTranscriptSnippet(text='model is available for free uh or rather', start=409.319, duration=5.481), FetchedTranscriptSnippet(text=\"it's available to the public anyone can\", start=412.72, duration=4.52), FetchedTranscriptSnippet(text='see the architecture the models released', start=414.8, duration=5.72), FetchedTranscriptSnippet(text='by open AI are usually closed source', start=417.24, duration=4.88), FetchedTranscriptSnippet(text=\"which means they don't release the\", start=420.52, duration=4.84), FetchedTranscriptSnippet(text='weights uh the architecture not too many', start=422.12, duration=5.96), FetchedTranscriptSnippet(text='things are known about the model itself', start=425.36, duration=4.679), FetchedTranscriptSnippet(text='so here is a graph which shows closed', start=428.08, duration=5.72), FetchedTranscriptSnippet(text='Source versus open source models in 2022', start=430.039, duration=5.56), FetchedTranscriptSnippet(text='when the field of large language models', start=433.8, duration=3.72), FetchedTranscriptSnippet(text='was booming most of the things were', start=435.599, duration=4.201), FetchedTranscriptSnippet(text='pretty closed Source when gp4 was', start=437.52, duration=6.2), FetchedTranscriptSnippet(text='released in 2023 it blew the world uh', start=439.8, duration=6.72), FetchedTranscriptSnippet(text='away everyone was surprised everyone was', start=443.72, duration=4.96), FetchedTranscriptSnippet(text='happy to see the functionality but still', start=446.52, duration=5.399), FetchedTranscriptSnippet(text='it was a closed Source model now in', start=448.68, duration=5.72), FetchedTranscriptSnippet(text='2024 can you see the gap between the', start=451.919, duration=4.4), FetchedTranscriptSnippet(text='open source and closed Source model is', start=454.4, duration=5.239), FetchedTranscriptSnippet(text='slowly decreasing and when Lama 3.1 is', start=456.319, duration=5.641), FetchedTranscriptSnippet(text='released you can see that it performs at', start=459.639, duration=5.601), FetchedTranscriptSnippet(text='the same level as gp4 which is closed', start=461.96, duration=5.72), FetchedTranscriptSnippet(text='Source this is to say that all the', start=465.24, duration=4.679), FetchedTranscriptSnippet(text='information which you need is available', start=467.68, duration=4.519), FetchedTranscriptSnippet(text='right now as open source models you', start=469.919, duration=4.68), FetchedTranscriptSnippet(text='should just be willing to learn if you', start=472.199, duration=4.481), FetchedTranscriptSnippet(text=\"are not sure what's open source close\", start=474.599, duration=6.28), FetchedTranscriptSnippet(text=\"Source models what's this Lama 340 5B\", start=476.68, duration=6.28), FetchedTranscriptSnippet(text=\"I'll explain to you about all of these\", start=480.879, duration=5.641), FetchedTranscriptSnippet(text='things as we proceed with the', start=482.96, duration=6.56), FetchedTranscriptSnippet(text='lectures Now text is one thing right', start=486.52, duration=4.28), FetchedTranscriptSnippet(text='there are many other things which', start=489.52, duration=4.0), FetchedTranscriptSnippet(text='generative AI as a field is capable of', start=490.8, duration=4.44), FetchedTranscriptSnippet(text='there is also a lot of confusion with', start=493.52, duration=3.799), FetchedTranscriptSnippet(text='many people regarding what is generative', start=495.24, duration=5.079), FetchedTranscriptSnippet(text='AI what are llms really but generative', start=497.319, duration=6.16), FetchedTranscriptSnippet(text='AI is a broader subset and it includes', start=500.319, duration=6.521), FetchedTranscriptSnippet(text='language it includes video audio 3D', start=503.479, duration=6.081), FetchedTranscriptSnippet(text='models all the things so have a look at', start=506.84, duration=5.079), FetchedTranscriptSnippet(text='some of these', start=509.56, duration=4.479), FetchedTranscriptSnippet(text=\"videos don't these videos look\", start=511.919, duration=4.8), FetchedTranscriptSnippet(text='incredibly realistic this video then', start=514.039, duration=5.92), FetchedTranscriptSnippet(text='this video The Waves video this', start=516.719, duration=5.8), FetchedTranscriptSnippet(text=\"particular video you'll be surprised to\", start=519.959, duration=4.481), FetchedTranscriptSnippet(text='know that all of these videos are made', start=522.519, duration=5.121), FetchedTranscriptSnippet(text='by artificial intelligence these videos', start=524.44, duration=6.399), FetchedTranscriptSnippet(text='are not shot on camera they are made by', start=527.64, duration=6.759), FetchedTranscriptSnippet(text='AI this is the power of generative AI', start=530.839, duration=6.641), FetchedTranscriptSnippet(text='currently finally uh when we work with', start=534.399, duration=5.281), FetchedTranscriptSnippet(text='schools we have developed our own a', start=537.48, duration=4.72), FetchedTranscriptSnippet(text=\"application so this is viu's AI\", start=539.68, duration=6.839), FetchedTranscriptSnippet(text='application uh or application on llms', start=542.2, duration=5.92), FetchedTranscriptSnippet(text='here you can see that there are a huge', start=546.519, duration=3.401), FetchedTranscriptSnippet(text='number of functionalities for example', start=548.12, duration=4.68), FetchedTranscriptSnippet(text='you can click on McQ generator and you', start=549.92, duration=5.84), FetchedTranscriptSnippet(text=\"can just type in the topic let's say\", start=552.8, duration=5.92), FetchedTranscriptSnippet(text='gravity and you can click on generate', start=555.76, duration=4.759), FetchedTranscriptSnippet(text=\"now you'll see that within a matter of\", start=558.72, duration=3.96), FetchedTranscriptSnippet(text='seconds the large language model which', start=560.519, duration=4.161), FetchedTranscriptSnippet(text='is powering this application will', start=562.68, duration=3.64), FetchedTranscriptSnippet(text='generate a set of multiple choice', start=564.68, duration=4.159), FetchedTranscriptSnippet(text='questions see right here we are', start=566.32, duration=4.72), FetchedTranscriptSnippet(text='providing this application to teachers', start=568.839, duration=4.44), FetchedTranscriptSnippet(text='all of this was impossible to even', start=571.04, duration=5.68), FetchedTranscriptSnippet(text='imagine uh just four to 5 years back but', start=573.279, duration=5.521), FetchedTranscriptSnippet(text='now large language models and generative', start=576.72, duration=4.04), FetchedTranscriptSnippet(text='AI are changing every single thing', start=578.8, duration=5.12), FetchedTranscriptSnippet(text='around us in fact what is probably more', start=580.76, duration=4.84), FetchedTranscriptSnippet(text='relevant to all of you watching this', start=583.92, duration=3.96), FetchedTranscriptSnippet(text='video is the global generative AI job', start=585.6, duration=5.32), FetchedTranscriptSnippet(text=\"market and just look at this growth it's\", start=587.88, duration=6.04), FetchedTranscriptSnippet(text='incredible uh and this is the pro', start=590.92, duration=4.919), FetchedTranscriptSnippet(text=\"projected job market it's expected to\", start=593.92, duration=3.88), FetchedTranscriptSnippet(text='grow about five to six times in the next', start=595.839, duration=4.721), FetchedTranscriptSnippet(text='5 years generate and large language', start=597.8, duration=6.0), FetchedTranscriptSnippet(text='models is an extremely useful skill and', start=600.56, duration=6.279), FetchedTranscriptSnippet(text='the need for this skill is only going to', start=603.8, duration=5.56), FetchedTranscriptSnippet(text='increase in the future so this again', start=606.839, duration=4.44), FetchedTranscriptSnippet(text='brings me to the question that if', start=609.36, duration=3.599), FetchedTranscriptSnippet(text='someone wants to learn about large', start=611.279, duration=4.24), FetchedTranscriptSnippet(text='language models how do they go about', start=612.959, duration=5.481), FetchedTranscriptSnippet(text=\"doing this so let's say you go to Google\", start=615.519, duration=5.241), FetchedTranscriptSnippet(text='and you search build llms learn which', start=618.44, duration=3.839), FetchedTranscriptSnippet(text='say which means you want to learn about', start=620.76, duration=3.639), FetchedTranscriptSnippet(text='large language models there are a number', start=622.279, duration=4.081), FetchedTranscriptSnippet(text='of courses which show up really over', start=624.399, duration=4.0), FetchedTranscriptSnippet(text='here now if you go to many of these', start=626.36, duration=3.4), FetchedTranscriptSnippet(text='courses you will see let let say build', start=628.399, duration=3.641), FetchedTranscriptSnippet(text=\"llm apps it's about app development it\", start=629.76, duration=4.0), FetchedTranscriptSnippet(text='does not teach you how to build a large', start=632.04, duration=3.4), FetchedTranscriptSnippet(text='language model from', start=633.76, duration=4.519), FetchedTranscriptSnippet(text='scratch here is another course Master SL', start=635.44, duration=5.399), FetchedTranscriptSnippet(text='Master large language model Concepts if', start=638.279, duration=4.201), FetchedTranscriptSnippet(text='you look at this course description', start=640.839, duration=3.401), FetchedTranscriptSnippet(text=\"right they don't teach you how to build\", start=642.48, duration=3.599), FetchedTranscriptSnippet(text=\"an llm from scratch at all they don't\", start=644.24, duration=3.399), FetchedTranscriptSnippet(text=\"teach you the nuts and bolts it's a\", start=646.079, duration=4.2), FetchedTranscriptSnippet(text='pretty quick course this is also not', start=647.639, duration=4.561), FetchedTranscriptSnippet(text=\"what I'm looking for what I'm looking\", start=650.279, duration=4.041), FetchedTranscriptSnippet(text='for is one course which teaches me the', start=652.2, duration=4.319), FetchedTranscriptSnippet(text='foundations in a lot of detail and in a', start=654.32, duration=5.0), FetchedTranscriptSnippet(text='lot of depth I want to know about the', start=656.519, duration=4.361), FetchedTranscriptSnippet(text='foundations because I want to build an', start=659.32, duration=5.56), FetchedTranscriptSnippet(text='llm from scratch so that uh my skill set', start=660.88, duration=7.04), FetchedTranscriptSnippet(text='is improved and so that I feel confident', start=664.88, duration=5.32), FetchedTranscriptSnippet(text='about giving generative Ai and even llm', start=667.92, duration=4.28), FetchedTranscriptSnippet(text=\"job interviews this is what I'm looking\", start=670.2, duration=4.16), FetchedTranscriptSnippet(text=\"for really I don't want a quick crash\", start=672.2, duration=4.199), FetchedTranscriptSnippet(text='course I want something in', start=674.36, duration=4.56), FetchedTranscriptSnippet(text='depth then I go to YouTube and search', start=676.399, duration=5.0), FetchedTranscriptSnippet(text='about llm from scratch this is the first', start=678.92, duration=4.56), FetchedTranscriptSnippet(text=\"video which shows up or rather it's a\", start=681.399, duration=4.081), FetchedTranscriptSnippet(text=\"first playlist you'll see that there are\", start=683.48, duration=4.52), FetchedTranscriptSnippet(text='18 chapters in this playlist but each of', start=685.48, duration=4.4), FetchedTranscriptSnippet(text='these chapters is again only 10 15', start=688.0, duration=4.72), FetchedTranscriptSnippet(text=\"minutes and again I'm a bit demotivated\", start=689.88, duration=4.56), FetchedTranscriptSnippet(text=\"seeing this because I'm not looking for\", start=692.72, duration=4.359), FetchedTranscriptSnippet(text=\"this either I'm looking for a massive\", start=694.44, duration=4.72), FetchedTranscriptSnippet(text='deep technical course which teaches me', start=697.079, duration=4.56), FetchedTranscriptSnippet(text='how to build an llm right from the very', start=699.16, duration=5.119), FetchedTranscriptSnippet(text='Basics there is Andre karpat is building', start=701.639, duration=4.561), FetchedTranscriptSnippet(text='a GPT course but if you look at this', start=704.279, duration=4.081), FetchedTranscriptSnippet(text=\"course it's actually quite complex it's\", start=706.2, duration=4.56), FetchedTranscriptSnippet(text='not an easy course at all he starts', start=708.36, duration=6.159), FetchedTranscriptSnippet(text='right in the middle of uh a concept and', start=710.76, duration=5.639), FetchedTranscriptSnippet(text=\"it's not meant for beginners and it's\", start=714.519, duration=3.801), FetchedTranscriptSnippet(text='just 90 minutes again this is not what', start=716.399, duration=4.201), FetchedTranscriptSnippet(text=\"I'm looking for here is another create a\", start=718.32, duration=4.079), FetchedTranscriptSnippet(text='large language model from scratch but', start=720.6, duration=3.919), FetchedTranscriptSnippet(text='you see the red bar here I tried taking', start=722.399, duration=3.68), FetchedTranscriptSnippet(text='this course and I finished three hours', start=724.519, duration=4.401), FetchedTranscriptSnippet(text='of this but again this is not explained', start=726.079, duration=5.481), FetchedTranscriptSnippet(text=\"well it's not explained from scratch I\", start=728.92, duration=4.96), FetchedTranscriptSnippet(text='want to make a course which people', start=731.56, duration=3.92), FetchedTranscriptSnippet(text='understand right from the very Basics', start=733.88, duration=4.68), FetchedTranscriptSnippet(text='and none of the courses on YouTube on', start=735.48, duration=5.96), FetchedTranscriptSnippet(text='Google are satisfying that need luckily', start=738.56, duration=5.12), FetchedTranscriptSnippet(text='very luckily I came across this book by', start=741.44, duration=4.8), FetchedTranscriptSnippet(text='an author called Sebastian rashka I', start=743.68, duration=4.08), FetchedTranscriptSnippet(text=\"think it's one of the best books on\", start=746.24, duration=4.0), FetchedTranscriptSnippet(text='large language models I purchased this', start=747.76, duration=5.0), FetchedTranscriptSnippet(text='book and this is going to serve as the', start=750.24, duration=5.159), FetchedTranscriptSnippet(text='reference material for our course what', start=752.76, duration=5.0), FetchedTranscriptSnippet(text=\"I'm going to do is that this is a 48\", start=755.399, duration=4.521), FetchedTranscriptSnippet(text=\"page book I'm going to convert every\", start=757.76, duration=4.8), FetchedTranscriptSnippet(text='single aspect of this book into a set of', start=759.92, duration=5.719), FetchedTranscriptSnippet(text=\"videos I'll probably have 35 40 or maybe\", start=762.56, duration=6.16), FetchedTranscriptSnippet(text='50 videos in this playlist similar to my', start=765.639, duration=4.841), FetchedTranscriptSnippet(text='playlist for machine learning and deep', start=768.72, duration=4.359), FetchedTranscriptSnippet(text='learning and uh whatever is given here', start=770.48, duration=5.64), FetchedTranscriptSnippet(text=\"right I'll convert it into\", start=773.079, duration=6.681), FetchedTranscriptSnippet(text=\"uh I'll convert it into video format\", start=776.12, duration=5.64), FetchedTranscriptSnippet(text='so for example here are some of the', start=779.76, duration=3.92), FetchedTranscriptSnippet(text=\"notes which I've already started to make\", start=781.76, duration=3.639), FetchedTranscriptSnippet(text=\"we'll we'll start covering this when we\", start=783.68, duration=4.88), FetchedTranscriptSnippet(text='move to uh the next lecture look at', start=785.399, duration=4.961), FetchedTranscriptSnippet(text=\"these notes what I've done over here is\", start=788.56, duration=4.399), FetchedTranscriptSnippet(text='that I have built my understanding from', start=790.36, duration=6.0), FetchedTranscriptSnippet(text='this book over here and to to transfer', start=792.959, duration=5.12), FetchedTranscriptSnippet(text='my understanding to all of you I have', start=796.36, duration=3.599), FetchedTranscriptSnippet(text='started writing on a white board every', start=798.079, duration=4.521), FetchedTranscriptSnippet(text='single thing in detail look at this and', start=799.959, duration=4.641), FetchedTranscriptSnippet(text=\"I'm trying to make it as interesting as\", start=802.6, duration=4.239), FetchedTranscriptSnippet(text='possible and as fundamental as possible', start=804.6, duration=4.919), FetchedTranscriptSnippet(text='so this is going to be the next lecture', start=806.839, duration=5.161), FetchedTranscriptSnippet(text='uh intro to llms so I finished making', start=809.519, duration=4.281), FetchedTranscriptSnippet(text='the notes for this and I finished making', start=812.0, duration=4.12), FetchedTranscriptSnippet(text='the notes for the lecture after that as', start=813.8, duration=5.039), FetchedTranscriptSnippet(text='well stages of building and llm so', start=816.12, duration=4.68), FetchedTranscriptSnippet(text=\"basically I'm making I'm in the process\", start=818.839, duration=4.24), FetchedTranscriptSnippet(text=\"of making all these notes but I'm making\", start=820.8, duration=4.719), FetchedTranscriptSnippet(text='the videos simultaneously so that I am', start=823.079, duration=4.841), FetchedTranscriptSnippet(text='also motivated and I am also on track', start=825.519, duration=3.841), FetchedTranscriptSnippet(text='eventually this will be a massive', start=827.92, duration=5.0), FetchedTranscriptSnippet(text='lecture notes of maybe 200 to 300 pages', start=829.36, duration=6.919), FetchedTranscriptSnippet(text='and uh there will be 50 to 60 videos', start=832.92, duration=5.32), FetchedTranscriptSnippet(text=\"based on this you'll learn everything\", start=836.279, duration=3.68), FetchedTranscriptSnippet(text='right from the very Basics nothing will', start=838.24, duration=3.76), FetchedTranscriptSnippet(text='be assumed everything will be spelled', start=839.959, duration=4.521), FetchedTranscriptSnippet(text='out and these set of videos will be', start=842.0, duration=4.519), FetchedTranscriptSnippet(text='perfect for serious people who want to', start=844.48, duration=3.84), FetchedTranscriptSnippet(text='transition to large language models', start=846.519, duration=4.281), FetchedTranscriptSnippet(text='really and we want to understand llms', start=848.32, duration=4.6), FetchedTranscriptSnippet(text='the right', start=850.8, duration=5.56), FetchedTranscriptSnippet(text='way uh okay so this is the main idea for', start=852.92, duration=5.64), FetchedTranscriptSnippet(text='the course another thing which I want to', start=856.36, duration=3.719), FetchedTranscriptSnippet(text='say is that you might have heard of', start=858.56, duration=4.399), FetchedTranscriptSnippet(text='applications like Lang chain this is a', start=860.079, duration=5.481), FetchedTranscriptSnippet(text='tool which helps you build llm apps but', start=862.959, duration=4.361), FetchedTranscriptSnippet(text=\"again it's not useful if you don't know\", start=865.56, duration=3.959), FetchedTranscriptSnippet(text='how to build an llm yourself many', start=867.32, duration=4.28), FetchedTranscriptSnippet(text='students directly start deploying apps', start=869.519, duration=4.32), FetchedTranscriptSnippet(text='as I mentioned before but I personally', start=871.6, duration=3.64), FetchedTranscriptSnippet(text=\"don't think that's the right way to\", start=873.839, duration=3.44), FetchedTranscriptSnippet(text='learn about llms you need to know how to', start=875.24, duration=4.36), FetchedTranscriptSnippet(text='build a entire large language model from', start=877.279, duration=5.521), FetchedTranscriptSnippet(text=\"scratch and we'll teach you that in this\", start=879.6, duration=5.76), FetchedTranscriptSnippet(text='playlist finally the goal is to equip', start=882.8, duration=4.68), FetchedTranscriptSnippet(text='all of you so that you feel confident in', start=885.36, duration=4.24), FetchedTranscriptSnippet(text='front of an interviewer right if you', start=887.48, duration=3.719), FetchedTranscriptSnippet(text='have just deployed applications by', start=889.6, duration=4.08), FetchedTranscriptSnippet(text='cloning some GitHub repository then if', start=891.199, duration=4.161), FetchedTranscriptSnippet(text='someone asks you a detailed question', start=893.68, duration=3.88), FetchedTranscriptSnippet(text=\"about key query and values let's say or\", start=895.36, duration=3.96), FetchedTranscriptSnippet(text='positional embedding or positional', start=897.56, duration=4.04), FetchedTranscriptSnippet(text='positional encoding you need to be in a', start=899.32, duration=4.12), FetchedTranscriptSnippet(text='position to say that I have built this', start=901.6, duration=3.799), FetchedTranscriptSnippet(text='from scratch so I know the details', start=903.44, duration=3.399), FetchedTranscriptSnippet(text='better than anyone', start=905.399, duration=4.601), FetchedTranscriptSnippet(text=\"else that's really going to position you\", start=906.839, duration=6.0), FetchedTranscriptSnippet(text='in a different boot than all the other', start=910.0, duration=5.48), FetchedTranscriptSnippet(text='people so this is the main objective of', start=912.839, duration=4.12), FetchedTranscriptSnippet(text='this course this is going to be the', start=915.48, duration=3.2), FetchedTranscriptSnippet(text='outline of this course we are going to', start=916.959, duration=5.44), FetchedTranscriptSnippet(text='follow uh all the top table of contents', start=918.68, duration=5.56), FetchedTranscriptSnippet(text='which have been mentioned over here and', start=922.399, duration=3.601), FetchedTranscriptSnippet(text=\"I'm going to convert those into video\", start=924.24, duration=4.0), FetchedTranscriptSnippet(text=\"lecture formats and it's going to be an\", start=926.0, duration=3.639), FetchedTranscriptSnippet(text=\"awesome series it's going to be a\", start=928.24, duration=4.24), FetchedTranscriptSnippet(text='detailed Series so if this seems of', start=929.639, duration=5.961), FetchedTranscriptSnippet(text='interest to you please uh mention in the', start=932.48, duration=4.88), FetchedTranscriptSnippet(text='comments so that I also feel motivated', start=935.6, duration=4.2), FetchedTranscriptSnippet(text='to build subsequent videos and as I', start=937.36, duration=3.919), FetchedTranscriptSnippet(text='mentioned the plan is to release', start=939.8, duration=3.279), FetchedTranscriptSnippet(text='everything all of this content', start=941.279, duration=4.0), FetchedTranscriptSnippet(text='completely for free so that you all can', start=943.079, duration=4.0), FetchedTranscriptSnippet(text='benefit from', start=945.279, duration=4.961), FetchedTranscriptSnippet(text='it okay thank you so much everyone uh', start=947.079, duration=4.841), FetchedTranscriptSnippet(text='and I look forward to seeing you in the', start=950.24, duration=3.56), FetchedTranscriptSnippet(text='next lecture where we will cover', start=951.92, duration=3.76), FetchedTranscriptSnippet(text='introduction to large language models', start=953.8, duration=4.24), FetchedTranscriptSnippet(text=\"and we'll cover all these things what\", start=955.68, duration=4.599), FetchedTranscriptSnippet(text='you are seeing in the board right now', start=958.04, duration=3.88), FetchedTranscriptSnippet(text='thanks everyone see you in the next', start=960.279, duration=4.641), FetchedTranscriptSnippet(text='lecture', start=961.92, duration=3.0)], video_id='Xpr8D6LeAtw', language='English (auto-generated)', language_code='en', is_generated=True)"
      ]
     },
     "execution_count": 8,
     "metadata": {},
     "output_type": "execute_result"
    }
   ],
   "source": [
    "transcript_list"
   ]
  },
  {
   "cell_type": "markdown",
   "id": "fc1b7231-cf63-49be-86b0-656c034c2a57",
   "metadata": {},
   "source": [
    "# Step 1b - Indexing (Text Splitting)"
   ]
  },
  {
   "cell_type": "code",
   "execution_count": 9,
   "id": "e5db7e88-53dc-45fb-9482-ad063e27abbd",
   "metadata": {},
   "outputs": [],
   "source": [
    "splitter = RecursiveCharacterTextSplitter(chunk_size=1000, chunk_overlap=200)\n",
    "chunks = splitter.create_documents([transcript])"
   ]
  },
  {
   "cell_type": "code",
   "execution_count": 10,
   "id": "2d2e672b-3466-4361-88b4-32426726514e",
   "metadata": {},
   "outputs": [
    {
     "data": {
      "text/plain": [
       "18"
      ]
     },
     "execution_count": 10,
     "metadata": {},
     "output_type": "execute_result"
    }
   ],
   "source": [
    "len(chunks)"
   ]
  },
  {
   "cell_type": "code",
   "execution_count": 11,
   "id": "e19ab2af-bbd4-43f2-9cfd-acc3440e7f03",
   "metadata": {},
   "outputs": [
    {
     "data": {
      "text/plain": [
       "Document(metadata={}, page_content=\"the need for this skill is only going to increase in the future so this again brings me to the question that if someone wants to learn about large language models how do they go about doing this so let's say you go to Google and you search build llms learn which say which means you want to learn about large language models there are a number of courses which show up really over here now if you go to many of these courses you will see let let say build llm apps it's about app development it does not teach you how to build a large language model from scratch here is another course Master SL Master large language model Concepts if you look at this course description right they don't teach you how to build an llm from scratch at all they don't teach you the nuts and bolts it's a pretty quick course this is also not what I'm looking for what I'm looking for is one course which teaches me the foundations in a lot of detail and in a lot of depth I want to know about the foundations because I\")"
      ]
     },
     "execution_count": 11,
     "metadata": {},
     "output_type": "execute_result"
    }
   ],
   "source": [
    "chunks[10]"
   ]
  },
  {
   "cell_type": "markdown",
   "id": "33566586-ed54-4755-a1a5-1ee80b2892a3",
   "metadata": {},
   "source": [
    "# Step 1c & 1d - Indexing (Embedding Generation and Storing in Vector Store)"
   ]
  },
  {
   "cell_type": "code",
   "execution_count": 12,
   "id": "c62e8a69-f41d-462f-9e75-de4f42c291d5",
   "metadata": {},
   "outputs": [],
   "source": [
    "embeddings = OpenAIEmbeddings(model=\"text-embedding-3-small\")\n",
    "vector_store = FAISS.from_documents(chunks, embeddings)"
   ]
  },
  {
   "cell_type": "code",
   "execution_count": 13,
   "id": "65da52e0-93c9-4fac-a216-cf0f1874c8d9",
   "metadata": {},
   "outputs": [
    {
     "data": {
      "text/plain": [
       "{0: 'e9d28293-0d6a-4b31-9559-ec11122aaa2d',\n",
       " 1: '15d4bbca-73d5-463b-b0e5-9beba7871995',\n",
       " 2: '44947742-bac9-46e5-ab3a-919d0013fc12',\n",
       " 3: '619f4ecf-abb1-4d38-a5f2-e642087e5ffa',\n",
       " 4: '321f45be-290e-4936-a6dc-40348ac36d4c',\n",
       " 5: '79406364-e720-4477-be0e-f485eec53e82',\n",
       " 6: 'ec4492e4-3814-49a3-97a5-7611acb387f5',\n",
       " 7: 'f43b7183-599b-42a3-b309-bf279f7cffbe',\n",
       " 8: '3325e560-bdb0-4b2c-9347-e70708474235',\n",
       " 9: 'be065dd0-dbb4-40c4-92fe-2988c16871da',\n",
       " 10: 'a59d83d6-df22-4dc6-9660-d95781f5373f',\n",
       " 11: '249ead1d-dda0-417f-90f0-5ee616b48a72',\n",
       " 12: '2d253cc4-2663-4742-8c33-1fc9afaf34e8',\n",
       " 13: 'f2381a9e-f6c3-4e90-8177-6c2c772c19c1',\n",
       " 14: 'ed31f6a9-f90c-41e4-a614-266f7e7dffc2',\n",
       " 15: 'f77a2a13-afe9-45ea-9de2-15b23c2d72fe',\n",
       " 16: '55c925ee-1098-4ebd-8f78-9dcc1fc0bce1',\n",
       " 17: 'e591f1c1-d4df-4a1e-8fd1-01e1d3fad2c2'}"
      ]
     },
     "execution_count": 13,
     "metadata": {},
     "output_type": "execute_result"
    }
   ],
   "source": [
    "vector_store.index_to_docstore_id"
   ]
  },
  {
   "cell_type": "code",
   "execution_count": 14,
   "id": "d7cb1fd0-a242-4b61-bb9e-87291ca809c0",
   "metadata": {},
   "outputs": [
    {
     "data": {
      "text/plain": [
       "[]"
      ]
     },
     "execution_count": 14,
     "metadata": {},
     "output_type": "execute_result"
    }
   ],
   "source": [
    "vector_store.get_by_ids(['244e8d52-4c03-4543-a4f2-a9d571c01c4f'])"
   ]
  },
  {
   "cell_type": "markdown",
   "id": "2ffb0eab-1e2a-48ce-8a97-83a8dfd92542",
   "metadata": {},
   "source": [
    "# Step 2 - Retrieval"
   ]
  },
  {
   "cell_type": "code",
   "execution_count": 15,
   "id": "bcbf09d1-873b-4616-9289-a83fb057fff7",
   "metadata": {},
   "outputs": [],
   "source": [
    "retriever = vector_store.as_retriever(search_type=\"similarity\", search_kwargs={\"k\": 4})"
   ]
  },
  {
   "cell_type": "code",
   "execution_count": 16,
   "id": "c0aebe3f-1f15-44d7-b6f2-dddbda24cdb5",
   "metadata": {},
   "outputs": [
    {
     "data": {
      "text/plain": [
       "VectorStoreRetriever(tags=['FAISS', 'OpenAIEmbeddings'], vectorstore=<langchain_community.vectorstores.faiss.FAISS object at 0x000001271FF08D00>, search_kwargs={'k': 4})"
      ]
     },
     "execution_count": 16,
     "metadata": {},
     "output_type": "execute_result"
    }
   ],
   "source": [
    "retriever"
   ]
  },
  {
   "cell_type": "code",
   "execution_count": 17,
   "id": "6b3e4d31-403b-4065-b046-7743387505e7",
   "metadata": {},
   "outputs": [
    {
     "data": {
      "text/plain": [
       "[Document(id='a59d83d6-df22-4dc6-9660-d95781f5373f', metadata={}, page_content=\"the need for this skill is only going to increase in the future so this again brings me to the question that if someone wants to learn about large language models how do they go about doing this so let's say you go to Google and you search build llms learn which say which means you want to learn about large language models there are a number of courses which show up really over here now if you go to many of these courses you will see let let say build llm apps it's about app development it does not teach you how to build a large language model from scratch here is another course Master SL Master large language model Concepts if you look at this course description right they don't teach you how to build an llm from scratch at all they don't teach you the nuts and bolts it's a pretty quick course this is also not what I'm looking for what I'm looking for is one course which teaches me the foundations in a lot of detail and in a lot of depth I want to know about the foundations because I\"),\n",
       " Document(id='ec4492e4-3814-49a3-97a5-7611acb387f5', metadata={}, page_content=\"we are living in right now llms have become really powerful and uh that's the first motivation to really learn about them there are several more things which are happening as I'm making this video Facebook released their Lama 3.1 which is one of their most capable large language models up till date and this is an open-source model which means that the entire architecture of the model is available for free uh or rather it's available to the public anyone can see the architecture the models released by open AI are usually closed source which means they don't release the weights uh the architecture not too many things are known about the model itself so here is a graph which shows closed Source versus open source models in 2022 when the field of large language models was booming most of the things were pretty closed Source when gp4 was released in 2023 it blew the world uh away everyone was surprised everyone was happy to see the functionality but still it was a closed Source model now\"),\n",
       " Document(id='f77a2a13-afe9-45ea-9de2-15b23c2d72fe', metadata={}, page_content=\"people who want to transition to large language models really and we want to understand llms the right way uh okay so this is the main idea for the course another thing which I want to say is that you might have heard of applications like Lang chain this is a tool which helps you build llm apps but again it's not useful if you don't know how to build an llm yourself many students directly start deploying apps as I mentioned before but I personally don't think that's the right way to learn about llms you need to know how to build a entire large language model from scratch and we'll teach you that in this playlist finally the goal is to equip all of you so that you feel confident in front of an interviewer right if you have just deployed applications by cloning some GitHub repository then if someone asks you a detailed question about key query and values let's say or positional embedding or positional positional encoding you need to be in a position to say that I have built this from\"),\n",
       " Document(id='79406364-e720-4477-be0e-f485eec53e82', metadata={}, page_content=\"or let me ask the same thing which I asked over here I am trying to learn about large language models tell me me some resources and then you'll see the response by chat GPT it's extremely useful it's to the point and uh it gives me books it gives me online courses it gives me research papers this is exactly what I need so you see this simple illustration shows that we are living in an age where we should be very lucky that the research on natural language processing and large language models is at such a stage where llm such as GPT are very powerful they are very sophisticated if you're not familiar with chat GPT that's fine we are going to be building our own GPD in this playlist so you'll learn about it along the way but I showed you this demonstration for you to appreciate the times we are living in right now llms have become really powerful and uh that's the first motivation to really learn about them there are several more things which are happening as I'm making this video\")]"
      ]
     },
     "execution_count": 17,
     "metadata": {},
     "output_type": "execute_result"
    }
   ],
   "source": [
    "retriever.invoke('What is large language model')"
   ]
  },
  {
   "cell_type": "markdown",
   "id": "1604405d-b598-4341-9f6c-a1b3e13c11e5",
   "metadata": {},
   "source": [
    "# Step 3 - Augmentation"
   ]
  },
  {
   "cell_type": "code",
   "execution_count": 18,
   "id": "910e9d45-9302-4f1e-b60f-84a32d9fd409",
   "metadata": {},
   "outputs": [],
   "source": [
    "llm = ChatOpenAI(model=\"gpt-4o-mini\", temperature=0.2)"
   ]
  },
  {
   "cell_type": "code",
   "execution_count": 19,
   "id": "1d0a8716-d440-4a88-a2a6-f2f564dce3e3",
   "metadata": {},
   "outputs": [],
   "source": [
    "prompt = PromptTemplate(\n",
    "    template=\"\"\"\n",
    "      You are a helpful assistant.\n",
    "      Answer ONLY from the provided transcript context.\n",
    "      If the context is insufficient, just say you don't know.\n",
    "\n",
    "      {context}\n",
    "      Question: {question}\n",
    "    \"\"\",\n",
    "    input_variables = ['context', 'question']\n",
    ")"
   ]
  },
  {
   "cell_type": "code",
   "execution_count": 20,
   "id": "63b23dfe-36a4-4de5-a4b7-07389268b30c",
   "metadata": {},
   "outputs": [],
   "source": [
    "question          = \"is the topic of artificial intelligence discussed in this video? if yes then what was discussed\"\n",
    "retrieved_docs    = retriever.invoke(question)"
   ]
  },
  {
   "cell_type": "code",
   "execution_count": 21,
   "id": "98c3f2df-130f-4388-9578-d9f094402bde",
   "metadata": {},
   "outputs": [
    {
     "data": {
      "text/plain": [
       "[Document(id='3325e560-bdb0-4b2c-9347-e70708474235', metadata={}, page_content=\"of there is also a lot of confusion with many people regarding what is generative AI what are llms really but generative AI is a broader subset and it includes language it includes video audio 3D models all the things so have a look at some of these videos don't these videos look incredibly realistic this video then this video The Waves video this particular video you'll be surprised to know that all of these videos are made by artificial intelligence these videos are not shot on camera they are made by AI this is the power of generative AI currently finally uh when we work with schools we have developed our own a application so this is viu's AI application uh or application on llms here you can see that there are a huge number of functionalities for example you can click on McQ generator and you can just type in the topic let's say gravity and you can click on generate now you'll see that within a matter of seconds the large language model which is powering this application will\"),\n",
       " Document(id='be065dd0-dbb4-40c4-92fe-2988c16871da', metadata={}, page_content=\"and you can just type in the topic let's say gravity and you can click on generate now you'll see that within a matter of seconds the large language model which is powering this application will generate a set of multiple choice questions see right here we are providing this application to teachers all of this was impossible to even imagine uh just four to 5 years back but now large language models and generative AI are changing every single thing around us in fact what is probably more relevant to all of you watching this video is the global generative AI job market and just look at this growth it's incredible uh and this is the pro projected job market it's expected to grow about five to six times in the next 5 years generate and large language models is an extremely useful skill and the need for this skill is only going to increase in the future so this again brings me to the question that if someone wants to learn about large language models how do they go about doing this so\"),\n",
       " Document(id='e9d28293-0d6a-4b31-9559-ec11122aaa2d', metadata={}, page_content=\"[Music] hello everyone welcome to the introductory lecture in this series which is titled build a large language model from scratch my name is Dr Raj dander I graduated from IIT Madras with a bch in mechanical engineering in 2017 after that I did my PhD from the Massachusetts Institute of Technology MIT I graduated from MIT with a PhD in machine learning in 2022 since then I've come back to India and we are all on a mission to basically make AI accessible to everyone U at viua which is our YouTube channel we have made several playlists now on machine learning on deep learning and uh the main approach or the philosophy which we really follow when we teach is to teach everything from from the basics not to assume anything teach you the nuts and bolts of every single concept the real reason behind this series is that as we all know large language models and generative AI are transforming everything around us startups are forming in this space companies are switching to large language\"),\n",
       " Document(id='619f4ecf-abb1-4d38-a5f2-e642087e5ffa', metadata={}, page_content=\"show you in some time to make every lecture we are going to make detailed lecture notes I'll share those lecture notes with you and all the videos in this series will be available completely for free okay so now I'm going to tell you a bit about my story of learning llms then I'm going to tell you a bit about what exists right now the material which is already available on the internet for learning llms why it is so inadequate why it is so insufficient and what we are trying to do new with this playlist so let's get into the video so let me take you back in time a bit to show you how large language models looked like in maybe 1960s uh or where the field of natural language processing was really about 50 to 60 years back so this is one of the first chat Bots which humans developed it's called as Elisa it was supposed to be a therapist and let's see how it works so first this interface asks me to choose my language so I'm choosing English let's go so then Elisa tells me how do you do\")]"
      ]
     },
     "execution_count": 21,
     "metadata": {},
     "output_type": "execute_result"
    }
   ],
   "source": [
    "retrieved_docs\n"
   ]
  },
  {
   "cell_type": "code",
   "execution_count": 22,
   "id": "29490cfb-2ea4-4690-9642-aa50f5a06bd9",
   "metadata": {},
   "outputs": [
    {
     "data": {
      "text/plain": [
       "\"of there is also a lot of confusion with many people regarding what is generative AI what are llms really but generative AI is a broader subset and it includes language it includes video audio 3D models all the things so have a look at some of these videos don't these videos look incredibly realistic this video then this video The Waves video this particular video you'll be surprised to know that all of these videos are made by artificial intelligence these videos are not shot on camera they are made by AI this is the power of generative AI currently finally uh when we work with schools we have developed our own a application so this is viu's AI application uh or application on llms here you can see that there are a huge number of functionalities for example you can click on McQ generator and you can just type in the topic let's say gravity and you can click on generate now you'll see that within a matter of seconds the large language model which is powering this application will\\n\\nand you can just type in the topic let's say gravity and you can click on generate now you'll see that within a matter of seconds the large language model which is powering this application will generate a set of multiple choice questions see right here we are providing this application to teachers all of this was impossible to even imagine uh just four to 5 years back but now large language models and generative AI are changing every single thing around us in fact what is probably more relevant to all of you watching this video is the global generative AI job market and just look at this growth it's incredible uh and this is the pro projected job market it's expected to grow about five to six times in the next 5 years generate and large language models is an extremely useful skill and the need for this skill is only going to increase in the future so this again brings me to the question that if someone wants to learn about large language models how do they go about doing this so\\n\\n[Music] hello everyone welcome to the introductory lecture in this series which is titled build a large language model from scratch my name is Dr Raj dander I graduated from IIT Madras with a bch in mechanical engineering in 2017 after that I did my PhD from the Massachusetts Institute of Technology MIT I graduated from MIT with a PhD in machine learning in 2022 since then I've come back to India and we are all on a mission to basically make AI accessible to everyone U at viua which is our YouTube channel we have made several playlists now on machine learning on deep learning and uh the main approach or the philosophy which we really follow when we teach is to teach everything from from the basics not to assume anything teach you the nuts and bolts of every single concept the real reason behind this series is that as we all know large language models and generative AI are transforming everything around us startups are forming in this space companies are switching to large language\\n\\nshow you in some time to make every lecture we are going to make detailed lecture notes I'll share those lecture notes with you and all the videos in this series will be available completely for free okay so now I'm going to tell you a bit about my story of learning llms then I'm going to tell you a bit about what exists right now the material which is already available on the internet for learning llms why it is so inadequate why it is so insufficient and what we are trying to do new with this playlist so let's get into the video so let me take you back in time a bit to show you how large language models looked like in maybe 1960s uh or where the field of natural language processing was really about 50 to 60 years back so this is one of the first chat Bots which humans developed it's called as Elisa it was supposed to be a therapist and let's see how it works so first this interface asks me to choose my language so I'm choosing English let's go so then Elisa tells me how do you do\""
      ]
     },
     "execution_count": 22,
     "metadata": {},
     "output_type": "execute_result"
    }
   ],
   "source": [
    "context_text = \"\\n\\n\".join(doc.page_content for doc in retrieved_docs)\n",
    "context_text"
   ]
  },
  {
   "cell_type": "code",
   "execution_count": 23,
   "id": "06a95657-2638-4ff0-bba7-afbcdef2c7ef",
   "metadata": {},
   "outputs": [],
   "source": [
    "final_prompt = prompt.invoke({\"context\": context_text, \"question\": question})"
   ]
  },
  {
   "cell_type": "code",
   "execution_count": 24,
   "id": "93206e81-f181-436e-89a8-7aae44133a0e",
   "metadata": {},
   "outputs": [
    {
     "data": {
      "text/plain": [
       "StringPromptValue(text=\"\\n      You are a helpful assistant.\\n      Answer ONLY from the provided transcript context.\\n      If the context is insufficient, just say you don't know.\\n\\n      of there is also a lot of confusion with many people regarding what is generative AI what are llms really but generative AI is a broader subset and it includes language it includes video audio 3D models all the things so have a look at some of these videos don't these videos look incredibly realistic this video then this video The Waves video this particular video you'll be surprised to know that all of these videos are made by artificial intelligence these videos are not shot on camera they are made by AI this is the power of generative AI currently finally uh when we work with schools we have developed our own a application so this is viu's AI application uh or application on llms here you can see that there are a huge number of functionalities for example you can click on McQ generator and you can just type in the topic let's say gravity and you can click on generate now you'll see that within a matter of seconds the large language model which is powering this application will\\n\\nand you can just type in the topic let's say gravity and you can click on generate now you'll see that within a matter of seconds the large language model which is powering this application will generate a set of multiple choice questions see right here we are providing this application to teachers all of this was impossible to even imagine uh just four to 5 years back but now large language models and generative AI are changing every single thing around us in fact what is probably more relevant to all of you watching this video is the global generative AI job market and just look at this growth it's incredible uh and this is the pro projected job market it's expected to grow about five to six times in the next 5 years generate and large language models is an extremely useful skill and the need for this skill is only going to increase in the future so this again brings me to the question that if someone wants to learn about large language models how do they go about doing this so\\n\\n[Music] hello everyone welcome to the introductory lecture in this series which is titled build a large language model from scratch my name is Dr Raj dander I graduated from IIT Madras with a bch in mechanical engineering in 2017 after that I did my PhD from the Massachusetts Institute of Technology MIT I graduated from MIT with a PhD in machine learning in 2022 since then I've come back to India and we are all on a mission to basically make AI accessible to everyone U at viua which is our YouTube channel we have made several playlists now on machine learning on deep learning and uh the main approach or the philosophy which we really follow when we teach is to teach everything from from the basics not to assume anything teach you the nuts and bolts of every single concept the real reason behind this series is that as we all know large language models and generative AI are transforming everything around us startups are forming in this space companies are switching to large language\\n\\nshow you in some time to make every lecture we are going to make detailed lecture notes I'll share those lecture notes with you and all the videos in this series will be available completely for free okay so now I'm going to tell you a bit about my story of learning llms then I'm going to tell you a bit about what exists right now the material which is already available on the internet for learning llms why it is so inadequate why it is so insufficient and what we are trying to do new with this playlist so let's get into the video so let me take you back in time a bit to show you how large language models looked like in maybe 1960s uh or where the field of natural language processing was really about 50 to 60 years back so this is one of the first chat Bots which humans developed it's called as Elisa it was supposed to be a therapist and let's see how it works so first this interface asks me to choose my language so I'm choosing English let's go so then Elisa tells me how do you do\\n      Question: is the topic of artificial intelligence discussed in this video? if yes then what was discussed\\n    \")"
      ]
     },
     "execution_count": 24,
     "metadata": {},
     "output_type": "execute_result"
    }
   ],
   "source": [
    "final_prompt"
   ]
  },
  {
   "cell_type": "markdown",
   "id": "5d182e04-9842-4755-9e4a-b98a4cfe5c0b",
   "metadata": {},
   "source": [
    "# Step 4 - Generation"
   ]
  },
  {
   "cell_type": "code",
   "execution_count": 25,
   "id": "4819bbb2-3f32-4b98-91ff-4cd2f6db118f",
   "metadata": {},
   "outputs": [
    {
     "name": "stdout",
     "output_type": "stream",
     "text": [
      "Yes, the topic of artificial intelligence is discussed in the video. It covers generative AI as a broader subset that includes various forms of media such as language, video, audio, and 3D models. The video highlights the capabilities of generative AI, showcasing realistic videos created by AI, and discusses the development of an AI application for generating multiple choice questions using large language models (LLMs). It emphasizes the transformative impact of LLMs and generative AI on education and the job market, noting the expected growth in demand for skills related to these technologies. Additionally, the speaker introduces a series aimed at teaching about large language models from the basics.\n"
     ]
    }
   ],
   "source": [
    "answer = llm.invoke(final_prompt)\n",
    "print(answer.content)"
   ]
  },
  {
   "cell_type": "markdown",
   "id": "2205dc51-9c19-44f8-ba7f-f4128fe1672f",
   "metadata": {},
   "source": [
    "#  Building a Chain"
   ]
  },
  {
   "cell_type": "code",
   "execution_count": 26,
   "id": "b576ad83-6d28-4d77-98c7-419d387eab88",
   "metadata": {},
   "outputs": [],
   "source": [
    "from langchain_core.runnables import RunnableParallel, RunnablePassthrough, RunnableLambda\n",
    "from langchain_core.output_parsers import StrOutputParser"
   ]
  },
  {
   "cell_type": "code",
   "execution_count": 27,
   "id": "5ac14ff7-dbd0-4242-85b7-e3f1cf19a4c1",
   "metadata": {},
   "outputs": [],
   "source": [
    "def format_docs(retrieved_docs):\n",
    "  context_text = \"\\n\\n\".join(doc.page_content for doc in retrieved_docs)\n",
    "  return context_text"
   ]
  },
  {
   "cell_type": "code",
   "execution_count": 28,
   "id": "a5c9129a-8398-42aa-bf13-fe042559c8ee",
   "metadata": {},
   "outputs": [],
   "source": [
    "parallel_chain = RunnableParallel({\n",
    "    'context': retriever | RunnableLambda(format_docs),\n",
    "    'question': RunnablePassthrough()\n",
    "})"
   ]
  },
  {
   "cell_type": "code",
   "execution_count": 29,
   "id": "50c1d8c0-d86d-454b-920a-21a6eca62c65",
   "metadata": {},
   "outputs": [
    {
     "data": {
      "text/plain": [
       "{'context': \"very confident about this subject very few people have this knowledge right now and I'm making this YouTube playlist which will be a very comprehensive playlist showing you everything about building an llm from scratch the way I'm making this playlist or the way I will make videos in this playlist is to teach te you everything from the basics as a beginner without assuming anything and at the end of this playlist you will have built an llm from scratch successfully all by yourself you'll see that after this point everything which comes later all the application Parts everything will just start seeming extremely easy to you so that's the whole philosophy behind making this lecture series it takes a huge amount of effort on our part to make this series because as you you will see and I'll show you in some time to make every lecture we are going to make detailed lecture notes I'll share those lecture notes with you and all the videos in this series will be available completely for free\\n\\npeople who want to transition to large language models really and we want to understand llms the right way uh okay so this is the main idea for the course another thing which I want to say is that you might have heard of applications like Lang chain this is a tool which helps you build llm apps but again it's not useful if you don't know how to build an llm yourself many students directly start deploying apps as I mentioned before but I personally don't think that's the right way to learn about llms you need to know how to build a entire large language model from scratch and we'll teach you that in this playlist finally the goal is to equip all of you so that you feel confident in front of an interviewer right if you have just deployed applications by cloning some GitHub repository then if someone asks you a detailed question about key query and values let's say or positional embedding or positional positional encoding you need to be in a position to say that I have built this from\\n\\nI have started writing on a white board every single thing in detail look at this and I'm trying to make it as interesting as possible and as fundamental as possible so this is going to be the next lecture uh intro to llms so I finished making the notes for this and I finished making the notes for the lecture after that as well stages of building and llm so basically I'm making I'm in the process of making all these notes but I'm making the videos simultaneously so that I am also motivated and I am also on track eventually this will be a massive lecture notes of maybe 200 to 300 pages and uh there will be 50 to 60 videos based on this you'll learn everything right from the very Basics nothing will be assumed everything will be spelled out and these set of videos will be perfect for serious people who want to transition to large language models really and we want to understand llms the right way uh okay so this is the main idea for the course another thing which I want to say is that\\n\\nthe need for this skill is only going to increase in the future so this again brings me to the question that if someone wants to learn about large language models how do they go about doing this so let's say you go to Google and you search build llms learn which say which means you want to learn about large language models there are a number of courses which show up really over here now if you go to many of these courses you will see let let say build llm apps it's about app development it does not teach you how to build a large language model from scratch here is another course Master SL Master large language model Concepts if you look at this course description right they don't teach you how to build an llm from scratch at all they don't teach you the nuts and bolts it's a pretty quick course this is also not what I'm looking for what I'm looking for is one course which teaches me the foundations in a lot of detail and in a lot of depth I want to know about the foundations because I\",\n",
       " 'question': 'what is llm'}"
      ]
     },
     "execution_count": 29,
     "metadata": {},
     "output_type": "execute_result"
    }
   ],
   "source": [
    "parallel_chain.invoke('what is llm')"
   ]
  },
  {
   "cell_type": "code",
   "execution_count": 30,
   "id": "f653050a-ed8b-4353-8cbf-116057997fea",
   "metadata": {},
   "outputs": [],
   "source": [
    "parser = StrOutputParser()"
   ]
  },
  {
   "cell_type": "code",
   "execution_count": 31,
   "id": "61178818-0b5d-4ee1-af4e-d8c021698706",
   "metadata": {},
   "outputs": [],
   "source": [
    "main_chain = parallel_chain | prompt | llm | parser"
   ]
  },
  {
   "cell_type": "code",
   "execution_count": 32,
   "id": "d9f0c86a-f7fa-49f3-811f-a96c1d064711",
   "metadata": {},
   "outputs": [
    {
     "data": {
      "text/plain": [
       "'The video outlines a course focused on large language models (LLMs), which will be presented in a series of detailed video lectures. The instructor plans to convert a 48-page book on LLMs into approximately 35 to 50 videos, aiming to make the content engaging and fundamental. The course will be offered for free, and the instructor encourages viewers to provide feedback in the comments to stay motivated. The next lecture will introduce LLMs, and the instructor shares their personal learning journey and critiques existing online materials on the topic. The video also briefly mentions the history of natural language processing, referencing an early chatbot called Elisa.'"
      ]
     },
     "execution_count": 32,
     "metadata": {},
     "output_type": "execute_result"
    }
   ],
   "source": [
    "main_chain.invoke('Can you summarize the video')"
   ]
  },
  {
   "cell_type": "code",
   "execution_count": null,
   "id": "7ddd480f-7919-401e-8941-5034bd7e5e95",
   "metadata": {},
   "outputs": [],
   "source": []
  }
 ],
 "metadata": {
  "kernelspec": {
   "display_name": "Python [conda env:myenv]",
   "language": "python",
   "name": "conda-env-myenv-py"
  },
  "language_info": {
   "codemirror_mode": {
    "name": "ipython",
    "version": 3
   },
   "file_extension": ".py",
   "mimetype": "text/x-python",
   "name": "python",
   "nbconvert_exporter": "python",
   "pygments_lexer": "ipython3",
   "version": "3.10.18"
  }
 },
 "nbformat": 4,
 "nbformat_minor": 5
}
